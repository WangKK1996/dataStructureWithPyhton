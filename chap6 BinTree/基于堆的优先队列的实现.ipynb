{
 "cells": [
  {
   "cell_type": "code",
   "execution_count": 1,
   "metadata": {},
   "outputs": [],
   "source": [
    "class PrioQueueError(ValueError):\n",
    "    pass"
   ]
  },
  {
   "cell_type": "code",
   "execution_count": 28,
   "metadata": {},
   "outputs": [],
   "source": [
    "class PrioQueue:\n",
    "    \"\"\"\n",
    "    利用堆来实现优先队列\n",
    "    \"\"\"\n",
    "    def __init__(self, elist = []):\n",
    "        self._elems = list(elist) # 这一步是使内部的表脱离原来的表，防止元素的共享\n",
    "        if elist:\n",
    "            self.buildheap()\n",
    "    \n",
    "    def is_empty(self):\n",
    "        return not self._elems\n",
    "    \n",
    "    def peek(self):\n",
    "        if self.is_empty():\n",
    "            raise PrioQueueError(\"in peek\")\n",
    "        return self._elems[0]\n",
    "    \n",
    "    # 入队操作\n",
    "    def enqueue(self, e):\n",
    "        self._elems.append(None) # add a dummy elemnt\n",
    "        self.siftup(e, len(self._elem)-1)\n",
    "        \n",
    "    def siftup(self, e, last):\n",
    "        # 初始化，(元素-1//2)对应的是其根节点\n",
    "        elems, i, j = self._elems, last, (last-1)//2 \n",
    "        # 判断，当e小于其根节点的时候，把根节点一段一段往下移动\n",
    "        while i > 0 and e < elems[j]:\n",
    "            elems[i] = elems[j]\n",
    "            i, j = j, (j-1)//2\n",
    "        elems[i] = e\n",
    "    \n",
    "    # 弹出操作\n",
    "    def dequeue(self):\n",
    "        if self.is_empty():\n",
    "            raise PrioQueueError(\"in queue\")\n",
    "        elems = self._elems\n",
    "        e0 = elems[0]\n",
    "        e = elems.pop()\n",
    "        if len(elems) > 0:\n",
    "            self.siftdown(e, 0, len(elems))\n",
    "        return e0\n",
    "    \n",
    "    def siftdown(self, e, begin, end):\n",
    "        # 初始化，begin*2+1找的是其左根结点\n",
    "        elems, i, j = self._elems, begin, begin * 2 + 1\n",
    "        while j < end:\n",
    "            # 判断右结点（兄弟结点）的情况\n",
    "            if j+1 < end and elems[j+1] < elems[j]:\n",
    "                j += 1 # 保证elems[j]里的数据不大于其兄弟结点的数据\n",
    "            # 这样就保证了根节点一定会小于兄弟结点中较小的那个\n",
    "            if e < elems[j]: \n",
    "                break # 因为e已经在三者中最小，找到了位置\n",
    "            elems[i] = elems[j] # 因为元素j在三者中最小，所以将其上移。\n",
    "            i, j = j, j * 2 + 1 # 更新i，j指针\n",
    "        elems[i] = e\n",
    "    \n",
    "    # 堆的初始构建\n",
    "    def buildheap(self):\n",
    "        end = len(self._elems)\n",
    "        # 从end//2开始做是因为，后面的元素已经是叶结点（顺序表转化为二叉树的特有性质）\n",
    "        # 所以，它们中的每一个都已经是一个堆了；\n",
    "        # 从完全二叉树的最下最右分支结点开始，往左建堆\n",
    "        # 然后再到上一层建堆；\n",
    "        # 最后，整个表成为一个堆\n",
    "        # 这个工作实际上就是在两个已有的堆上加上一个根元素，使其成为堆\n",
    "        for i in range(end//2, -1, -1):\n",
    "            self.siftdown(self._elems[i], i, end)"
   ]
  },
  {
   "cell_type": "markdown",
   "metadata": {},
   "source": [
    "总结来说。siftup和siftdown这两个方法并没有一开始就把元素插入，而是“拿着e找合适的位置”，然后把找过的位置依次后移，直到找到合适的位置之后，再把e插入"
   ]
  },
  {
   "cell_type": "code",
   "execution_count": 51,
   "metadata": {},
   "outputs": [],
   "source": [
    "lit = PrioQueue([1,4,5,2,3,6,8])"
   ]
  },
  {
   "cell_type": "code",
   "execution_count": 52,
   "metadata": {},
   "outputs": [],
   "source": [
    "lit.buildheap()"
   ]
  },
  {
   "cell_type": "markdown",
   "metadata": {},
   "source": [
    "## 利用堆来排序"
   ]
  },
  {
   "cell_type": "code",
   "execution_count": 53,
   "metadata": {},
   "outputs": [],
   "source": [
    "def heap_sort(elems):\n",
    "    def siftdown(elems, e, begin, end):\n",
    "        i, j = begin, begin*2+1\n",
    "        while j < end:\n",
    "            if j+1<end and elems[j+1] < elems[j]:\n",
    "                j += 1\n",
    "            if e < elems[j]:\n",
    "                break\n",
    "            elems[i] = elems[j]\n",
    "            i, j = j, j*2+1\n",
    "        elems[i] = e\n",
    "    \n",
    "    end = len(elems)\n",
    "    for  i in range(end//2, -1, -1):\n",
    "        siftdown(elems, elems[i], i, end)\n",
    "        \n",
    "    # 这一步操作是，模拟从堆顶开始弹出，把弹出的元素放在表尾，对前面的元素重新建堆\n",
    "    # 所以得到的结果其实是一个由大到小排序的过程\n",
    "    for i in range((end-1), 0, -1):\n",
    "        e = elems[i]\n",
    "        elems[i] = elems[0]\n",
    "        siftdown(elems, e, 0, i)"
   ]
  },
  {
   "cell_type": "code",
   "execution_count": 54,
   "metadata": {},
   "outputs": [
    {
     "data": {
      "text/plain": [
       "[73, 63, 6, 4, 3, 2, 1]"
      ]
     },
     "execution_count": 54,
     "metadata": {},
     "output_type": "execute_result"
    }
   ],
   "source": [
    "elems = [1,4,6,73,2,63,3]\n",
    "heap_sort(elems)\n",
    "elems"
   ]
  },
  {
   "cell_type": "code",
   "execution_count": null,
   "metadata": {},
   "outputs": [],
   "source": []
  }
 ],
 "metadata": {
  "kernelspec": {
   "display_name": "Python 3",
   "language": "python",
   "name": "python3"
  },
  "language_info": {
   "codemirror_mode": {
    "name": "ipython",
    "version": 3
   },
   "file_extension": ".py",
   "mimetype": "text/x-python",
   "name": "python",
   "nbconvert_exporter": "python",
   "pygments_lexer": "ipython3",
   "version": "3.5.5"
  }
 },
 "nbformat": 4,
 "nbformat_minor": 2
}
