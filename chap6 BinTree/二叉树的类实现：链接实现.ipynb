{
 "cells": [
  {
   "cell_type": "markdown",
   "metadata": {},
   "source": [
    "### 二叉树结点类"
   ]
  },
  {
   "cell_type": "code",
   "execution_count": 3,
   "metadata": {},
   "outputs": [],
   "source": [
    "class BinTNode:\n",
    "    def __init__(self, dat, left = None, right = None):\n",
    "        self.data = dat\n",
    "        self.left = left\n",
    "        self.right = right"
   ]
  },
  {
   "cell_type": "code",
   "execution_count": 4,
   "metadata": {},
   "outputs": [],
   "source": [
    "# 一棵包含了三个结点的二叉树，变量t引着树根结点\n",
    "t = BinTNode(1, BinTNode(2), BinTNode(3))"
   ]
  },
  {
   "cell_type": "code",
   "execution_count": 5,
   "metadata": {},
   "outputs": [],
   "source": [
    "def count_BinTNode(t):\n",
    "    if t is None:\n",
    "        return 0\n",
    "    else:\n",
    "        return 1 + count_BinTNode(t, left) \\\n",
    "               + count_BinTNode(t, right)\n",
    "\n",
    "# 假设结点中保存数值，求这种二叉树里的所有数值和：\n",
    "def sum_BinTNode(t):\n",
    "    if t is None:\n",
    "        return 0\n",
    "    else:\n",
    "        return t.data + sum_BinTNode(t.left) \\\n",
    "               + sum_BinTNodes(t, right)"
   ]
  },
  {
   "cell_type": "markdown",
   "metadata": {},
   "source": [
    "### 遍历算法\n",
    "如何针对链接的二叉树结点构成的二叉树，实现遍历二叉树的函数？"
   ]
  },
  {
   "cell_type": "code",
   "execution_count": 6,
   "metadata": {},
   "outputs": [],
   "source": [
    "def preorder(t, proc): # proc是具体的结点数据操作\n",
    "    assert (isinstance(t, BinTNode))\n",
    "    if t is None:\n",
    "        return\n",
    "    proc(t.data)\n",
    "    preorder(t.left)\n",
    "    preorder(t.right)\n",
    "\n",
    "# 链接二叉树的可视化打印    \n",
    "def print_BinTNodes(t):\n",
    "    if t is None:\n",
    "        print(\"^\", end = \"\") # 空树输出^\n",
    "        return\n",
    "    print(\"(\" + str(t.data), end = \"\")\n",
    "    print_BinTNodes(t.left)\n",
    "    print_BinTNodes(t.right)\n",
    "    print(\")\", end = \"\")"
   ]
  },
  {
   "cell_type": "code",
   "execution_count": 7,
   "metadata": {},
   "outputs": [
    {
     "name": "stdout",
     "output_type": "stream",
     "text": [
      "(1(2(5^^)^)(3^^))"
     ]
    }
   ],
   "source": [
    "t = BinTNode(1, BinTNode(2, BinTNode(5)), BinTNode(3))\n",
    "print_BinTNodes(t)"
   ]
  },
  {
   "cell_type": "markdown",
   "metadata": {},
   "source": [
    "### 宽度优先遍历"
   ]
  },
  {
   "cell_type": "code",
   "execution_count": 8,
   "metadata": {},
   "outputs": [],
   "source": [
    "from SQueue import *\n",
    "def levelorder(t, proc):\n",
    "    qu = SQueue()\n",
    "    qu.enqueue(t)\n",
    "    while not qu.is_empty():\n",
    "        t = qu.dequeue()\n",
    "        if t is None: # 弹出的树为空树则直接跳过\n",
    "            continue\n",
    "        qu.enqueue(t.left)\n",
    "        qu.enqueue(t.right)\n",
    "        proc(t.data)"
   ]
  },
  {
   "cell_type": "code",
   "execution_count": 27,
   "metadata": {},
   "outputs": [
    {
     "name": "stdout",
     "output_type": "stream",
     "text": [
      "树形结构是: \n",
      "(1(2(5(8^^)(9^(11^^)))(6^^))(3(7(4^^)(10^^))^))\n",
      "宽度优先遍历结果: \n",
      "1 2 3 5 6 7 8 9 4 10 11 "
     ]
    }
   ],
   "source": [
    "# 一个测试，查看该操作可以做啥\n",
    "t = BinTNode(1,\n",
    "             BinTNode(2,\n",
    "                      BinTNode(5,\n",
    "                               BinTNode(8),BinTNode(9,\n",
    "                                                    None, BinTNode(11))),\n",
    "                      BinTNode(6)\n",
    "                     ),\n",
    "             BinTNode(3, \n",
    "                      BinTNode(7,BinTNode(4),BinTNode(10)))\n",
    "            )\n",
    "\n",
    "print(\"树形结构是\",end = \": \\n\")\n",
    "print_BinTNodes(t)\n",
    "print(\"\\n宽度优先遍历结果: \")\n",
    "levelorder(t,lambda x: print(x, end = \" \"))"
   ]
  },
  {
   "cell_type": "markdown",
   "metadata": {},
   "source": [
    "### 非递归的先根序遍历函数"
   ]
  },
  {
   "cell_type": "code",
   "execution_count": 19,
   "metadata": {},
   "outputs": [],
   "source": [
    "def preorder_nonrec(t, proc):\n",
    "    s = SStack()\n",
    "    while t is not None or not s.is_empty():\n",
    "        while t is not None: # 沿左分支下行\n",
    "            proc(t.data) # 先根序处理根数据\n",
    "            s.push(t.right) # 右分支入栈\n",
    "            t = t.left\n",
    "        t = s.pop() # 遇到空树，回溯"
   ]
  },
  {
   "cell_type": "code",
   "execution_count": 28,
   "metadata": {},
   "outputs": [
    {
     "name": "stdout",
     "output_type": "stream",
     "text": [
      "1 2 5 8 9 11 6 3 7 4 10 "
     ]
    }
   ],
   "source": [
    "preorder_nonrec(t, lambda x:print(x, end = \" \"))"
   ]
  },
  {
   "cell_type": "markdown",
   "metadata": {},
   "source": [
    "### 非递归的后根序遍历算法"
   ]
  },
  {
   "cell_type": "code",
   "execution_count": 12,
   "metadata": {},
   "outputs": [],
   "source": [
    "def postorder_nonrec(t, proc):\n",
    "    s = SStack()\n",
    "    while t is not None or not s.is_empty():\n",
    "        while t is not None:\n",
    "            s.push(t)\n",
    "            # 这个条件表达式的意义是能左就左，否则往右一步\n",
    "            t = t.left if t.left is not None else t.right\n",
    "        # 后进先出，最后肯定是\n",
    "        t = s.pop()\n",
    "        proc(t.data)\n",
    "        if not s.is_empty() and s.top().left == t:\n",
    "            t = s.top().right # 栈不空，且当前结点是栈顶的左子结点\n",
    "        else:\n",
    "            t = None # 没有右子树或者右子树遍历完毕，强迫退栈"
   ]
  },
  {
   "cell_type": "code",
   "execution_count": 29,
   "metadata": {},
   "outputs": [
    {
     "name": "stdout",
     "output_type": "stream",
     "text": [
      "8 11 9 5 6 2 4 10 7 3 1 "
     ]
    }
   ],
   "source": [
    "postorder_nonrec(t, lambda x: print(x, end = \" \"))"
   ]
  },
  {
   "cell_type": "markdown",
   "metadata": {},
   "source": [
    "这个算法想法还是蛮复杂的。整理一下主要是：\n",
    "1. 首先顺着根节点找到最左边的叶结点，并一路把元素压入栈，终止\n",
    "2. 如果（终止时）被访问的是左结点，那么转为它的兄弟结点继续\n",
    "3. 如果终止的时候是右结点，则设t为None，这样就会pop出上一层的结点，进行下一次循环"
   ]
  },
  {
   "cell_type": "markdown",
   "metadata": {},
   "source": [
    "## 二叉树类\n",
    "基于结点构造的二叉树有递归的结构，但是None表示空树，不是BinTNode，所以不是一种良好的封装的抽象数据类型；\n",
    "\n",
    "要解决这类问题，最好的方法就是定义一个二叉树类，用BinTNode结点链接而成的树形结构作为其内部表示。"
   ]
  },
  {
   "cell_type": "code",
   "execution_count": 40,
   "metadata": {},
   "outputs": [],
   "source": [
    "class BinTree:\n",
    "    def __init__(self):\n",
    "        self._root = None\n",
    "        \n",
    "    def is_empty(self):\n",
    "        return self._root is None\n",
    "    \n",
    "    def root(self):\n",
    "        return self._root\n",
    "    \n",
    "    def leftchild(self):\n",
    "        return self._root.left\n",
    "    \n",
    "    def rightchild(self):\n",
    "        return self._root.right\n",
    "    \n",
    "    def set_root(self, rootnode):\n",
    "        self._root = rootnode\n",
    "    \n",
    "    def set_left(self, leftchild):\n",
    "        self._root.left = leftchild\n",
    "    \n",
    "    def set_right(self, rightchild):\n",
    "        self._root.right = rightchild\n",
    "    \n",
    "    # 一个元素迭代器（按照先根序）\n",
    "    def preorder_elements(self):\n",
    "        t, s = self._root, SStack()\n",
    "        while t is not None or not s.is_empty():\n",
    "            while t is not None:\n",
    "                s.push(t.right)\n",
    "                yield (t.data)\n",
    "                t = t.left\n",
    "            t = s.pop()"
   ]
  },
  {
   "cell_type": "code",
   "execution_count": 61,
   "metadata": {},
   "outputs": [],
   "source": [
    "a = BinTree()\n",
    "\n",
    "a.set_root(BinTNode(\"root\"))\n",
    "a.set_left(BinTNode(\"left\"))\n",
    "a.set_right(t)"
   ]
  },
  {
   "cell_type": "code",
   "execution_count": 62,
   "metadata": {},
   "outputs": [
    {
     "name": "stdout",
     "output_type": "stream",
     "text": [
      "root->left->1->2->5->8->9->11->6->3->7->4->10->"
     ]
    }
   ],
   "source": [
    "for i in a.preorder_elements():\n",
    "    print (i,end = \"->\")"
   ]
  },
  {
   "cell_type": "code",
   "execution_count": null,
   "metadata": {},
   "outputs": [],
   "source": []
  }
 ],
 "metadata": {
  "kernelspec": {
   "display_name": "Python 3",
   "language": "python",
   "name": "python3"
  },
  "language_info": {
   "codemirror_mode": {
    "name": "ipython",
    "version": 3
   },
   "file_extension": ".py",
   "mimetype": "text/x-python",
   "name": "python",
   "nbconvert_exporter": "python",
   "pygments_lexer": "ipython3",
   "version": "3.5.5"
  }
 },
 "nbformat": 4,
 "nbformat_minor": 2
}
