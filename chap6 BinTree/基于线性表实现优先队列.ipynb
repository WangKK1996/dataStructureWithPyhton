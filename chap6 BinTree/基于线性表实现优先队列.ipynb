{
 "cells": [
  {
   "cell_type": "markdown",
   "metadata": {},
   "source": [
    "先假设一个简单的list来表示优先队列。这里假设值较小的元素优先级更高。"
   ]
  },
  {
   "cell_type": "code",
   "execution_count": 1,
   "metadata": {},
   "outputs": [],
   "source": [
    "# 先定义一个异常，用在优先队列里：\n",
    "class PrioQueueError(ValueError):\n",
    "    pass"
   ]
  },
  {
   "cell_type": "code",
   "execution_count": 2,
   "metadata": {},
   "outputs": [],
   "source": [
    "# 优先队列单独定义为一个类\n",
    "class PrioQue:\n",
    "    def __init__(self, elist = []):\n",
    "        self._elems = list(elist)\n",
    "        self._elems.sort(reverse = True) # 做从大到小的排列，即较小为较优先\n",
    "    \n",
    "    # 插入元素操作：找到正确的插入位置\n",
    "    def enqueue(self, e):\n",
    "        i = len(self._elems) - 1\n",
    "        while i >= 0:\n",
    "            if self._elems[i] <= e:\n",
    "                i -= 1\n",
    "            else:\n",
    "                break\n",
    "        self._elems.insert(i+1, e)\n",
    "        \n",
    "    def is_empty(self):\n",
    "        return not self._elems\n",
    "    \n",
    "    def peek(self):\n",
    "        if self.is_empty():\n",
    "            raise PrioQueueError(\"in top\")\n",
    "        return self._elems[-1]\n",
    "    \n",
    "    def dequeue(self):\n",
    "        if self.is_empty():\n",
    "            raise PrioQueueError(\"in pop\")\n",
    "        return self._elems.pop()"
   ]
  },
  {
   "cell_type": "markdown",
   "metadata": {},
   "source": [
    "可以发现，这些操作除了插入元素是O（n）操作，其他都是O（1）的操作。"
   ]
  }
 ],
 "metadata": {
  "kernelspec": {
   "display_name": "Python 3",
   "language": "python",
   "name": "python3"
  },
  "language_info": {
   "codemirror_mode": {
    "name": "ipython",
    "version": 3
   },
   "file_extension": ".py",
   "mimetype": "text/x-python",
   "name": "python",
   "nbconvert_exporter": "python",
   "pygments_lexer": "ipython3",
   "version": "3.5.5"
  }
 },
 "nbformat": 4,
 "nbformat_minor": 2
}
