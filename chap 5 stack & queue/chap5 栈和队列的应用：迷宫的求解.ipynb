{
 "cells": [
  {
   "cell_type": "markdown",
   "metadata": {},
   "source": [
    "## 栈和列表的应用：迷宫的求解"
   ]
  },
  {
   "cell_type": "markdown",
   "metadata": {},
   "source": [
    "* 迷宫用0/1来表示\n",
    "* 对于其中的某一个格子，如果它的方位是`(i,j)`，则他四周的方位则表示为这个二元组分别加上dirs："
   ]
  },
  {
   "cell_type": "code",
   "execution_count": 2,
   "metadata": {},
   "outputs": [],
   "source": [
    "dirs = [(0,1),(1,0),(0,-1),(-1,0)]"
   ]
  },
  {
   "cell_type": "markdown",
   "metadata": {},
   "source": [
    "为了使算法的描述更加方便，定义两个辅助函数："
   ]
  },
  {
   "cell_type": "code",
   "execution_count": 1,
   "metadata": {},
   "outputs": [],
   "source": [
    "def mark(maze, pos): # 给迷宫maze的位置pos标识“到过了”\n",
    "    maze[pos[0]][pos[1]] = 2\n",
    "\n",
    "def passable(maze, pos): # 检查迷宫maze的位置pos是否可行\n",
    "    return maze[pos[0]][pos[1]] == 0"
   ]
  },
  {
   "cell_type": "markdown",
   "metadata": {},
   "source": [
    "### 迷宫的递归求解\n",
    "有关迷宫求解问题的递归观点如下：\n",
    "* 每一时刻应当有一个当前位置，开始时这个位置是迷宫入口\n",
    "* 如果当前位置是出口，问题已解决\n",
    "* 否则，如果从当前位置已经无路可走，表示探查失败，回退一步。\n",
    "* 取一个可行相邻位置，用同样的方法探查，如果从那里可以找到通往出口的路径，那么从当前位置到出口的路径就找到了。\n"
   ]
  },
  {
   "cell_type": "code",
   "execution_count": 4,
   "metadata": {},
   "outputs": [],
   "source": [
    "# 递归核心函数的实现\n",
    "def find_path(maze, pos, end):\n",
    "    mark(maze, pos)\n",
    "    if pos == end: # 已到达出口\n",
    "        print(pos, end = \" \")\n",
    "        return True\n",
    "    for i in range(4):\n",
    "        nextp = pos[0] + dirs[i][0], pos[1] + dirs[i][1]\n",
    "        if passable(maze, nextp):\n",
    "            if find_path(maze, nextp, end):\n",
    "                print(pos, end = \" \")\n",
    "                return True\n",
    "    return False"
   ]
  },
  {
   "cell_type": "code",
   "execution_count": 5,
   "metadata": {},
   "outputs": [],
   "source": [
    "maze = [[1,1,1,1,1],[1,0,0,1,1],[1,1,0,0,1],[1,1,1,0,1],[1,1,1,1,1]]\n",
    "pos = (1,1)\n",
    "end = (3,3)"
   ]
  },
  {
   "cell_type": "code",
   "execution_count": 7,
   "metadata": {},
   "outputs": [
    {
     "name": "stdout",
     "output_type": "stream",
     "text": [
      "(3, 3) (2, 3) (2, 2) (1, 2) (1, 1) "
     ]
    },
    {
     "data": {
      "text/plain": [
       "True"
      ]
     },
     "execution_count": 7,
     "metadata": {},
     "output_type": "execute_result"
    }
   ],
   "source": [
    "find_path(maze, pos, end)"
   ]
  },
  {
   "cell_type": "markdown",
   "metadata": {},
   "source": [
    "### 栈和回溯法\n",
    "如果不用递归技术求解迷宫问题，其中一种方法称为**回溯法**，这种算法在工作中执行两种基本动作：前进和后退。\n",
    "* 前进\n",
    "  * 条件：当前位置存在尚未探查的四邻位置\n",
    "  * 操作：选定下一个位置并向前探查。如果还存在其他没有被探查的分支，就记录相关信息以便将来使用。\n",
    "* 后退\n",
    "  * 条件：遇到死路\n",
    "  * 操作：退回最近记录的分支点，检查那里是否存在未探查分支。如果有就取一个为探查的位置作为当前位置并前进，没有就将其删除并继续回溯。\n",
    "* 已穷尽所有可能：不能找到出口时以失败结束。\n",
    "\n",
    "易见，这里的分支的删除和使用具有**栈**的性质。所以可以用一个栈作为辅助结构来保存工作中发现的回溯点。\n",
    "\n",
    "**入栈的元素：**途径每一个位置时，先检查那里的情况，在栈中只保存还存在其他未探查方向的位置。这种保存方式节省栈的空间"
   ]
  },
  {
   "cell_type": "markdown",
   "metadata": {},
   "source": [
    "## 算法的实现\n",
    "根据迷宫的表示以及回溯后继续搜索的需要，存入栈的是序队（pos, nxt）,pos表示位置，nxt则表示回溯到该位置的下一探索方向，四个方向用编码（0,1,2,3）来表示"
   ]
  },
  {
   "cell_type": "code",
   "execution_count": 54,
   "metadata": {},
   "outputs": [],
   "source": [
    "# 先定义一个辅助函数print_path,它应该把栈中的位置和当前位置加end输出。\n",
    "def print_path(end, pos, st):\n",
    "    while not st.is_empty():\n",
    "        print(st.pop()[0], end = \" \")\n",
    "    print(pos, end)"
   ]
  },
  {
   "cell_type": "code",
   "execution_count": 55,
   "metadata": {},
   "outputs": [],
   "source": [
    "# 补充一下SStack的定义\n",
    "class SStack():\n",
    "    def __init__(self):\n",
    "        self._elems = []\n",
    "    \n",
    "    def is_empty(self):\n",
    "        return self._elems == []\n",
    "\n",
    "    def top(self):\n",
    "        if self._elems == []:\n",
    "            raise StackUnderflow(\"in SStack.top()\")\n",
    "        return self.elem[-1] # 后进先出，得到最后一个元素\n",
    "    \n",
    "    def push(self, elem):\n",
    "        self._elems.append(elem)\n",
    "    \n",
    "    def pop(self):\n",
    "        if self._elems == []:\n",
    "            raise StackUnderflow(\"in SStack.pop()\")\n",
    "        return self._elems.pop() # 以列表形式弹出\n",
    "    \n",
    "    def printall(self):\n",
    "        print(self._elems)"
   ]
  },
  {
   "cell_type": "code",
   "execution_count": 56,
   "metadata": {},
   "outputs": [],
   "source": [
    "def maze_solve(maze, start, end):\n",
    "    if start == end:\n",
    "        print(start)\n",
    "        return\n",
    "    st = SStack() # 创建栈对象\n",
    "    mark(maze, start)\n",
    "    st.push((start, 0)) # 入口和方向0入栈\n",
    "    while not st.is_empty(): # 走不通就回退\n",
    "        pos, nxt = st.pop() \n",
    "        for i in range(nxt, 4): # 依次检查未探索方向\n",
    "            nextp = (pos[0] + dirs[i][0], pos[1] + dirs[i][1])\n",
    "            if nextp == end:\n",
    "                print_path(end, pos, st) # 输出栈中的元素，当前位置和结束位置\n",
    "                return\n",
    "            if passable(maze, nextp): # 遇到未探查的新位置\n",
    "                st.push((pos, i+1)) # 原位置和下一个要探查的方向先入栈\n",
    "                mark(maze, nextp) # 标记已经找过了\n",
    "                st.push((nextp, 0)) # 新位置也要入栈\n",
    "                break # 跳出本次循环，下一次循环就是基于当前的新位置了\n",
    "    \n",
    "    print(\"path not found.\")\n",
    "    "
   ]
  },
  {
   "cell_type": "code",
   "execution_count": 57,
   "metadata": {},
   "outputs": [],
   "source": [
    "maze = [[1,1,1,1,1],[1,0,0,1,1],[1,1,0,0,1],[1,1,1,0,1],[1,1,1,1,1]]\n",
    "pos = (1,1)\n",
    "end = (3,3)"
   ]
  },
  {
   "cell_type": "code",
   "execution_count": 58,
   "metadata": {
    "scrolled": true
   },
   "outputs": [
    {
     "name": "stdout",
     "output_type": "stream",
     "text": [
      "(2, 2) (1, 2) (1, 1) (2, 3) (3, 3)\n"
     ]
    }
   ],
   "source": [
    "maze_solve(maze, pos, end)"
   ]
  },
  {
   "cell_type": "markdown",
   "metadata": {},
   "source": [
    "### 基于队列的实现\n",
    "基本框架：\n",
    "```\n",
    "将start标记为已达\n",
    "start入队\n",
    "while 队列中还有未充分探查的位置：\n",
    "    取出一个位置pos\n",
    "    检查pos的相邻位置\n",
    "        遇到end成功结束\n",
    "        尚未探查的都mark并入队\n",
    "队列空，搜索失败\n",
    "```\n",
    "基于这个算法结构，定义相应的函数，基本结构与前面用栈的算法类似的队列作为缓存结构："
   ]
  },
  {
   "cell_type": "code",
   "execution_count": 64,
   "metadata": {},
   "outputs": [],
   "source": [
    "# 首先是SQueue的定义\n",
    "class SQueue():\n",
    "    def __init__(self, init_len = 8):\n",
    "        self._len = init_len # 存储区长度\n",
    "        self._elems = [0] * init_len # 元素存储\n",
    "        self._head = 0 # 表头元素下标\n",
    "        self._num = 0 # 元素个数\n",
    "    \n",
    "    def is_empty(self):\n",
    "        return self._num == 0\n",
    "\n",
    "    def peek(self):\n",
    "        if self._num == 0:\n",
    "            raise QueueUnderflow\n",
    "        return self._elems[self._head]\n",
    "    \n",
    "    def dequeue(self):\n",
    "        if self._num == 0:\n",
    "            raise QueueUnderflow\n",
    "        e = self._elems[self._head]\n",
    "        self._head = (self._head + 1)%self._len\n",
    "        self._num -= 1\n",
    "        return e\n",
    "    \n",
    "    def enqueue(self, e):\n",
    "        if self._num == self._len:\n",
    "            self.__extend()\n",
    "        self._elems[(self._head + self._num) % self._len] = e\n",
    "        self._num += 1\n",
    "        \n",
    "    def __extend(self):\n",
    "        old_len = self._len\n",
    "        self._len *= 2\n",
    "        new_elems = [0]*self._len\n",
    "        for i in range(old_len):\n",
    "            new_elems[i] = self._elems[(self._head + i) % old_len]\n",
    "            self._elems, self._head = new_elems, 0"
   ]
  },
  {
   "cell_type": "code",
   "execution_count": 65,
   "metadata": {},
   "outputs": [],
   "source": [
    "def maze_solver_queue(maze, start, end):\n",
    "    if start == end: # 这是特殊情况\n",
    "        print(\"Path finds.\")\n",
    "        return\n",
    "    qu = SQueue()\n",
    "    mark(maze, start)\n",
    "    qu.enqueue(start) # 入口入队\n",
    "    while not qu.is_empty(): # 还有候选位置\n",
    "        pos = qu.dequeue() # 取出下一个位置\n",
    "        for i in range(4):\n",
    "            nextp = (pos[0] + dirs[i][0], pos[1] + dirs[i][1])\n",
    "            if passable(maze, nextp):\n",
    "                if nextp == end:\n",
    "                    print(\"Path find.\")\n",
    "                    return\n",
    "                mark(maze, nextp)\n",
    "                qu.enqueue(nextp) # 新位置入队\n",
    "    print(\"No path.\")\n",
    "        "
   ]
  },
  {
   "cell_type": "code",
   "execution_count": 66,
   "metadata": {},
   "outputs": [
    {
     "name": "stdout",
     "output_type": "stream",
     "text": [
      "Path find.\n"
     ]
    }
   ],
   "source": [
    "maze = [[1,1,1,1,1],[1,0,0,1,1],[1,1,0,0,1],[1,1,1,0,1],[1,1,1,1,1]]\n",
    "start = (1,1)\n",
    "end = (3,3)\n",
    "maze_solver_queue(maze, start, end)"
   ]
  },
  {
   "cell_type": "code",
   "execution_count": 75,
   "metadata": {},
   "outputs": [],
   "source": [
    "# 进阶的方法：打印出找到的路线\n",
    "def maze_solver_queueV2(maze, start, end):\n",
    "    if start == end: # 这是特殊情况\n",
    "        print(\"Path finds.\")\n",
    "        return\n",
    "    qu = SQueue()\n",
    "    mark(maze, start)\n",
    "    qu.enqueue(start) # 入口入队\n",
    "    pos_dict = {}\n",
    "    while not qu.is_empty(): # 还有候选位置\n",
    "        pos = qu.dequeue() # 取出下一个位置\n",
    "        for i in range(4):\n",
    "            nextp = (pos[0] + dirs[i][0], pos[1] + dirs[i][1])\n",
    "            if passable(maze, nextp):\n",
    "                pos_dict[nextp] = pos # 记录位置的前驱位置\n",
    "                if nextp == end:\n",
    "                    print(\"Path find.The path is :\", end = \" \")\n",
    "                    ppos = end\n",
    "                    while ppos != start:\n",
    "                        print(i, end = \" \")\n",
    "                        i = pos_dict[i]\n",
    "                    print (start)\n",
    "                    return\n",
    "                mark(maze, nextp)\n",
    "                qu.enqueue(nextp) # 新位置入队                \n",
    "    print(\"No path.\") # 没找到路线"
   ]
  },
  {
   "cell_type": "code",
   "execution_count": 74,
   "metadata": {},
   "outputs": [
    {
     "name": "stdout",
     "output_type": "stream",
     "text": [
      "Path find.The path is : (3, 3) (2, 3) (2, 2) (1, 2) (1, 1)\n"
     ]
    }
   ],
   "source": [
    "maze = [[1,1,1,1,1],[1,0,0,1,1],[1,1,0,0,1],[1,1,1,0,1],[1,1,1,1,1]]\n",
    "start = (1,1)\n",
    "end = (3,3)\n",
    "maze_solver_queueV2(maze, start, end)"
   ]
  },
  {
   "cell_type": "markdown",
   "metadata": {},
   "source": []
  }
 ],
 "metadata": {
  "kernelspec": {
   "display_name": "Python 3",
   "language": "python",
   "name": "python3"
  },
  "language_info": {
   "codemirror_mode": {
    "name": "ipython",
    "version": 3
   },
   "file_extension": ".py",
   "mimetype": "text/x-python",
   "name": "python",
   "nbconvert_exporter": "python",
   "pygments_lexer": "ipython3",
   "version": "3.5.5"
  }
 },
 "nbformat": 4,
 "nbformat_minor": 2
}
