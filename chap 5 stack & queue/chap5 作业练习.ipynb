{
 "cells": [
  {
   "cell_type": "markdown",
   "metadata": {},
   "source": [
    "Ackeman函数\n",
    "1. 定义一个递归函数实现ackeman函数\n",
    "2. 定义一个非递归函数实现ackeman"
   ]
  },
  {
   "cell_type": "code",
   "execution_count": 13,
   "metadata": {},
   "outputs": [],
   "source": [
    "# 基于递归函数的实现\n",
    "def ackeman(m, n):\n",
    "    if m == 0:\n",
    "        return m - 1\n",
    "    elif n == 0:\n",
    "        return ackeman(m-1, 1)\n",
    "    else: \n",
    "        return ackeman(m-1, ackeman(m, n-1))"
   ]
  },
  {
   "cell_type": "code",
   "execution_count": 29,
   "metadata": {},
   "outputs": [
    {
     "data": {
      "text/plain": [
       "-1"
      ]
     },
     "execution_count": 29,
     "metadata": {},
     "output_type": "execute_result"
    }
   ],
   "source": [
    "ackeman(1,0) # 递归次数太多无法输出结果"
   ]
  },
  {
   "cell_type": "code",
   "execution_count": 6,
   "metadata": {},
   "outputs": [],
   "source": [
    "# 八皇后问题\n",
    "# \n",
    "def conflict(m, n, pos_1, pos_2):\n",
    "    \"\"\"\n",
    "    辅助函数：第m行棋子和第n行棋子的位置是否冲突？\n",
    "    \n",
    "    输入：pos_1：第m行棋子所在的位置;pos_2:第n行棋子所在的位置\n",
    "    输出：逻辑值true or false\n",
    "    \"\"\"\n",
    "    if pos_1 == pos_2 or abs((m - n)/(pos_1 - pos_2)) == 1:\n",
    "        return True\n",
    "    else:\n",
    "        return False"
   ]
  },
  {
   "cell_type": "code",
   "execution_count": null,
   "metadata": {},
   "outputs": [],
   "source": [
    "# 定义主函数\n",
    "def queens(n):\n",
    "    \"\"\"\n",
    "    这是八皇后的主函数。\n",
    "    \n",
    "    输入：总共有n行\n",
    "    输出：n皇后问题的解\n",
    "    \"\"\"\n",
    "    st = SStack()\n",
    "    queen_pos = {}\n",
    "    while : # 直到找到满足条件的安排方法再停止\n",
    "        st.pop()\n",
    "        for line in range(0, n):\n",
    "            if not conflict(queen_pos{})\n",
    "            "
   ]
  },
  {
   "cell_type": "markdown",
   "metadata": {},
   "source": [
    "## 八皇后问题的递归写法"
   ]
  },
  {
   "cell_type": "code",
   "execution_count": null,
   "metadata": {},
   "outputs": [],
   "source": [
    "import random\n",
    "def conflict(state, nextX):\n",
    "    \"\"\"\n",
    "    检查冲突。\n",
    "    \n",
    "    在定义state时，采用state来标记每个皇后的位置，用其索引来表示横坐标。\n",
    "    基对应的值表示纵坐标，例如state[0] = 3，表示该皇后位于第一行的第4列上。\n",
    "    \"\"\"\n",
    "    nextY = len(state)\n",
    "    for i in range(nextY):\n",
    "        # 如果下一个皇后的位置与当前的皇后位置相邻，或者在同一对角线上，说明有冲突需要重新摆放。\n",
    "        if abs(state[i] - nextX) in (0, nextY - i):\n",
    "            return True\n",
    "    return False"
   ]
  },
  {
   "cell_type": "code",
   "execution_count": null,
   "metadata": {},
   "outputs": [],
   "source": [
    "# 采用生成器的方式来产生皇后的位置，并进行判断\n",
    "def queens(num, state = ()):\n",
    "    for pos in range(num):\n",
    "        if not conflict(state, pos):\n",
    "            # 产生当前皇后的位置信息\n",
    "            if len(state) == num - 1:\n",
    "                yield(pos, )"
   ]
  },
  {
   "cell_type": "code",
   "execution_count": 7,
   "metadata": {},
   "outputs": [
    {
     "data": {
      "text/plain": [
       "['1', '2', '3', '4', '5', '6']"
      ]
     },
     "execution_count": 7,
     "metadata": {},
     "output_type": "execute_result"
    }
   ],
   "source": [
    "a = [\"1\",\"2\",\"3\"]\n",
    "b = [\"4\",\"5\",\"6\"]\n",
    "a + b"
   ]
  },
  {
   "cell_type": "code",
   "execution_count": 6,
   "metadata": {},
   "outputs": [
    {
     "data": {
      "text/plain": [
       "[1, 2, 3, 4, 5, 6]"
      ]
     },
     "execution_count": 6,
     "metadata": {},
     "output_type": "execute_result"
    }
   ],
   "source": []
  },
  {
   "cell_type": "code",
   "execution_count": null,
   "metadata": {},
   "outputs": [],
   "source": []
  }
 ],
 "metadata": {
  "kernelspec": {
   "display_name": "Python 3",
   "language": "python",
   "name": "python3"
  },
  "language_info": {
   "codemirror_mode": {
    "name": "ipython",
    "version": 3
   },
   "file_extension": ".py",
   "mimetype": "text/x-python",
   "name": "python",
   "nbconvert_exporter": "python",
   "pygments_lexer": "ipython3",
   "version": "3.5.5"
  }
 },
 "nbformat": 4,
 "nbformat_minor": 2
}
