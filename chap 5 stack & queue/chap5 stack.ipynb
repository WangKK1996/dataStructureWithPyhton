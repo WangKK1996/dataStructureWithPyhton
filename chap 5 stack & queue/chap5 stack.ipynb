{
 "cells": [
  {
   "cell_type": "markdown",
   "metadata": {},
   "source": [
    "# 栈的顺序表实现"
   ]
  },
  {
   "cell_type": "code",
   "execution_count": 1,
   "metadata": {},
   "outputs": [],
   "source": [
    "class SStack():\n",
    "    def __init__(self): # 用list对象_elem存储栈中元素\n",
    "        self._elems = [] # 所有栈操作都映射到list中\n",
    "    \n",
    "    def is_empty(self):\n",
    "        return self._elems == []\n",
    "\n",
    "    def top(self):\n",
    "        if self._elems == []:\n",
    "            raise StackUnderflow(\"in SStack.top()\")\n",
    "        return self.elem[-1] # 后进先出，得到最后一个元素\n",
    "    \n",
    "    def push(self, elem):\n",
    "        self._elems.append(elem)\n",
    "    \n",
    "    def pop(self):\n",
    "        if self._elems == []:\n",
    "            raise StackUnderflow(\"in SStack.pop()\")\n",
    "        return self._elems.pop() # 以列表形式弹出\n",
    "    \n",
    "    def printall(self):\n",
    "        print(self._elems)"
   ]
  },
  {
   "cell_type": "code",
   "execution_count": 2,
   "metadata": {},
   "outputs": [
    {
     "name": "stdout",
     "output_type": "stream",
     "text": [
      "5\n",
      "3\n",
      "[]\n"
     ]
    }
   ],
   "source": [
    "# 使用SStack抽象数据类型\n",
    "st1 = SStack()\n",
    "st1.push(3)\n",
    "st1.push(5)\n",
    "while not st1.is_empty():\n",
    "    print(st1.pop())\n",
    "st1.printall()"
   ]
  },
  {
   "cell_type": "markdown",
   "metadata": {},
   "source": [
    "# 栈的链接表实现"
   ]
  },
  {
   "cell_type": "code",
   "execution_count": 3,
   "metadata": {},
   "outputs": [],
   "source": [
    "# 首先重新定义一下LNode:\n",
    "class LNode():\n",
    "    def __init__(self, elem, next_ = None):\n",
    "        self._elem = elem\n",
    "        self.next = next_"
   ]
  },
  {
   "cell_type": "code",
   "execution_count": 4,
   "metadata": {},
   "outputs": [],
   "source": [
    "class LStack(): # 基于链接表技术实现的栈类，用LNode作为结点\n",
    "    def __init__(self):\n",
    "        self._top = None\n",
    "    \n",
    "    def is_empty(self):\n",
    "        return self._top is None\n",
    "\n",
    "    def top(self):\n",
    "        if self._top is None:\n",
    "            raise StackUnderflow(\"in LStack.top()\")\n",
    "        return self._top.elem\n",
    "    \n",
    "    def push(self, elem):\n",
    "        self._top = LNode(elem, self._top)\n",
    "    \n",
    "    def pop(self):\n",
    "        if self._top is None:\n",
    "            raise StackUnderflow(\"in LStack pop()\")\n",
    "        p = self._top\n",
    "        self._top = p.next\n",
    "        return p.elem\n",
    "    def printall(self):\n",
    "        p = self._top\n",
    "        while p.next is not None:\n",
    "            print(p)\n",
    "            p = p.next"
   ]
  },
  {
   "cell_type": "code",
   "execution_count": 5,
   "metadata": {},
   "outputs": [
    {
     "data": {
      "text/plain": [
       "[5, 4, 3, 2, 1]"
      ]
     },
     "execution_count": 5,
     "metadata": {},
     "output_type": "execute_result"
    }
   ],
   "source": [
    "#假设list1里存储这要颠倒的列表\n",
    "list1 = [1, 2, 3, 4, 5]\n",
    "st1 = SStack()\n",
    "for x in list1:\n",
    "    st1.push(x)\n",
    "list2 = []\n",
    "while not st1.is_empty():\n",
    "    list2.append(st1.pop())\n",
    "\n",
    "list2 # 来看下list2长什么样"
   ]
  },
  {
   "cell_type": "markdown",
   "metadata": {},
   "source": [
    "整个操作的代价为O（n）"
   ]
  },
  {
   "cell_type": "markdown",
   "metadata": {},
   "source": [
    "# 括号匹配问题"
   ]
  },
  {
   "cell_type": "code",
   "execution_count": 6,
   "metadata": {},
   "outputs": [],
   "source": [
    "def check_parens(text):\n",
    "    \"\"\"\n",
    "    括号匹配检查函数，text是被检查的正文串\n",
    "    \"\"\"\n",
    "    parens = \"()[]{}\"\n",
    "    open_parens = \"([{\"\n",
    "    opposite = {\")\":\"(\", \"]\": \"[\", \"}\": \"{\"} # 表示配对关系的字典\n",
    "    \n",
    "    def parentheses(text):\n",
    "        \"\"\"括号生成器，每次调用返回text里的下一括号及其位置\"\"\"\n",
    "        i, text_len = 0, len(text)\n",
    "        while True:\n",
    "            while i < text_len and text[i] not in parens:\n",
    "                i += 1\n",
    "            if i >= text_len:\n",
    "                return\n",
    "            yield text[i], i\n",
    "            print(text[i])\n",
    "            i += 1\n",
    "    \n",
    "    st = SStack() # 保存括号的栈\n",
    "    for pr, i in parentheses(text): # 对text里各括号和位置进行迭代\n",
    "        if pr in open_parens:\n",
    "            st.push(pr) # 如果是开括号，就押进栈\n",
    "        elif st.pop() != opposite[pr]: # 如果不匹配就失败\n",
    "            print(\"Unmatching is found at\", i , \"for\", pr)\n",
    "            return False\n",
    "        else:\n",
    "            pass # 因为成功了，就啥都不做\n",
    "        \n",
    "    print(\"All parenthese are correctly matched\")\n",
    "#     st.printall()\n",
    "    return True"
   ]
  },
  {
   "cell_type": "markdown",
   "metadata": {},
   "source": [
    "# 表达式的变换"
   ]
  },
  {
   "cell_type": "code",
   "execution_count": 7,
   "metadata": {},
   "outputs": [],
   "source": [
    "# 从SStack继承一个类过来\n",
    "class ESStack(SStack):\n",
    "    def __init__(self):\n",
    "        SStack.__init__(self)\n",
    "    \n",
    "    def depth(self): # 增加一个深度表，因为计算的时候需要知道该表的深度\n",
    "        return len(self._elems)"
   ]
  },
  {
   "cell_type": "code",
   "execution_count": 8,
   "metadata": {},
   "outputs": [],
   "source": [
    "# 该函数用来分割输入的函数\n",
    "def suffix_exp_evaluator(line):\n",
    "    return suf_exp_evaluator(line.split())"
   ]
  },
  {
   "cell_type": "code",
   "execution_count": 11,
   "metadata": {},
   "outputs": [],
   "source": [
    "# 以下是具体实施细节\n",
    "def suf_exp_evaluator(exp):\n",
    "    operators = \"+-*/\"\n",
    "    st = ESStack()\n",
    "    \n",
    "    for x in exp:\n",
    "        if x not in operators:\n",
    "            st.push(float(x)) # 不能转化就会自动引发异常（浮点不得行）\n",
    "            continue\n",
    "        \n",
    "        if st.depth() < 2: #栈元素不够的时候也会引发异常\n",
    "            raise SystaxError(\"Short of operand(s).\")\n",
    "        a = st.pop()\n",
    "        b = st.pop()\n",
    "        \n",
    "        if x ==\"+\":\n",
    "            c = b + a\n",
    "        elif x == \"-\":\n",
    "            c = b - a\n",
    "        elif x == \"*\":\n",
    "            c = b * a\n",
    "        elif x == \"/\":\n",
    "            c = b/a\n",
    "        else:\n",
    "            break\n",
    "        \n",
    "        st.push(c)\n",
    "        \n",
    "    if st.depth() == 1:\n",
    "        return st.pop()\n",
    "    raise SystaxError(\"Extra operand(s).\")\n",
    "\n",
    "# 接下来再定义一个交互式的函数，方便用户使用\n",
    "def suffix_exp_calculator():\n",
    "    while True:\n",
    "        try:\n",
    "            line = input(\"Suffix Expression: \") \n",
    "            if line ==\"end\": return\n",
    "            res = suffix_exp_evaluator(line)\n",
    "        except Exception as ex: # 这个地方是用来抓异常的，为了保证无论什么异常都可以被顺利抓取\n",
    "            print(\"Error: \", type(ex), ex.args)\n",
    "    "
   ]
  },
  {
   "cell_type": "markdown",
   "metadata": {},
   "source": [
    "# 中缀表达式到后缀表达式的转化\n",
    "中缀表达式因为优先级的问题，所以遇到一个运算符也不能直接用，而是要比对两个优先级。"
   ]
  },
  {
   "cell_type": "code",
   "execution_count": 12,
   "metadata": {},
   "outputs": [],
   "source": [
    "# 首先准备数据\n",
    "# 确立优先级\n",
    "priority = {\"(\" : 1, \"+\":3,  \"-\" : 3, \"*\": 5, \"/\":5}\n",
    "infix_operateors = \"+-*/()\""
   ]
  },
  {
   "cell_type": "code",
   "execution_count": 17,
   "metadata": {},
   "outputs": [],
   "source": [
    "def trans_infix_suffix(line):\n",
    "    st = SStack() # 处理进栈和出栈问题\n",
    "    exp = [] # 生成的后缀表达式\n",
    "    \n",
    "    for x in tokens(line): # token是待定义的生成器\n",
    "        if x not in infix_operateors: # 不是运算符的话，直接放到列表里\n",
    "            exp.append(x)\n",
    "        elif st.is_empty() or x == \"(\": # 左括号进栈\n",
    "            st.push(x)\n",
    "        elif st == \")\": # 处理右括号\n",
    "            while not st.is_empty() and st.top() != \"(\" :\n",
    "                exp.append(st.pop())\n",
    "            if st.is_empty(): # 没找到左括号，即不配对\n",
    "                raise SyntaxError(\"Missing '('.\")\n",
    "            st.pop() # 弹出左括号，右括号也不进栈\n",
    "        else:            # 处理其他运算符，这些运算符都看做是左结合\n",
    "            while (not st.is_empty() and \n",
    "                priority(st.pop()) >= priority[x]):\n",
    "                    exp .append(st.pop())\n",
    "            st.push(x) # 算数运算符进栈\n",
    "    \n",
    "    while not st.is_empty(): # 送出栈里剩下的运算符\n",
    "        if st.top() == \"(\" : # 如果还有左括号，即使不配对\n",
    "            raise SyntaxError(\"Extra '('.\")\n",
    "        exp.append(st.pop())\n",
    "    \n",
    "    return exp\n",
    "            "
   ]
  },
  {
   "cell_type": "code",
   "execution_count": 18,
   "metadata": {},
   "outputs": [],
   "source": [
    "# 再定义一个用于测试的辅助函数\n",
    "def test_trans_infix_suffix(s):\n",
    "    print(s)\n",
    "    print(trans_infix_suffix(s))\n",
    "    print(\"Value: \", suf_exp_evaluator(trans_infix_suffix(s)))"
   ]
  },
  {
   "cell_type": "code",
   "execution_count": null,
   "metadata": {},
   "outputs": [],
   "source": [
    "# tokens函数产生输入表达式里的各个项\n",
    "def tokens(line):\n",
    "    \"\"\"\n",
    "    生成器函数，逐一生成line中的项，项是浮点数或者运算符\n",
    "    \n",
    "    本函数不能处理一元运算符，也不能处理带符号的浮点数。\n",
    "    \"\"\"\n",
    "    i,llen = 0, len(line)\n",
    "    while i < llen:\n",
    "        while line[i].isspace():\n",
    "            i += 1\n",
    "        if i <= llen:\n",
    "            break\n",
    "        if line[i] in infix_operators: # 如果是运算符的情况\n",
    "            yield line[i]\n",
    "            i += 1\n",
    "            continue\n",
    "            \n",
    "        j = j + 1 # 处理运算对象\n",
    "        \n",
    "        while (j < llen and not line[j].isspace and line[j] not in infix_operators):\n",
    "            if ((line[j] == 'e' or line[j] == 'E') # 处负指数\n",
    "                and j+1 < llen and line[j+1] == '-') :\n",
    "                j += 1\n",
    "            j += 1\n",
    "            \n",
    "        yield line[i:j] # 生成运算对象的子串\n",
    "        i = j\n",
    "        "
   ]
  },
  {
   "cell_type": "markdown",
   "metadata": {},
   "source": [
    "输入是一个中缀表达式，允许各项之间可以有多个空格。费空格且非运算符的一段就是一个运算对象。此外，还允许出现E或者e表示指数。"
   ]
  },
  {
   "cell_type": "markdown",
   "metadata": {},
   "source": [
    "## 背包问题的求解"
   ]
  },
  {
   "cell_type": "code",
   "execution_count": 20,
   "metadata": {},
   "outputs": [],
   "source": [
    "def knap_rec(weight, wlist, n):\n",
    "    if weight == 0:\n",
    "        return True\n",
    "    if weight < 0 or (weight > 0 and n < 1):\n",
    "        return False\n",
    "    if knap_rec(weight - wlist[n-1], wlist, n-1): # 子问题1\n",
    "        print(\"Item\" + str(n) + \":\", wlist[n-1])\n",
    "        return True\n",
    "    if knap_rec(weight, wlist, n-1): # 子问题2\n",
    "        return True\n",
    "    else: return False"
   ]
  },
  {
   "cell_type": "code",
   "execution_count": 25,
   "metadata": {
    "scrolled": true
   },
   "outputs": [
    {
     "name": "stdout",
     "output_type": "stream",
     "text": [
      "Item2: 2\n",
      "Item3: 35\n",
      "Item4: 6\n",
      "Item5: 7\n",
      "Item6: 9\n"
     ]
    },
    {
     "data": {
      "text/plain": [
       "True"
      ]
     },
     "execution_count": 25,
     "metadata": {},
     "output_type": "execute_result"
    }
   ],
   "source": [
    "knap_rec(59,[1,2,35,6,7,9], 6)"
   ]
  },
  {
   "cell_type": "code",
   "execution_count": null,
   "metadata": {},
   "outputs": [],
   "source": []
  }
 ],
 "metadata": {
  "kernelspec": {
   "display_name": "Python 3",
   "language": "python",
   "name": "python3"
  },
  "language_info": {
   "codemirror_mode": {
    "name": "ipython",
    "version": 3
   },
   "file_extension": ".py",
   "mimetype": "text/x-python",
   "name": "python",
   "nbconvert_exporter": "python",
   "pygments_lexer": "ipython3",
   "version": "3.5.5"
  }
 },
 "nbformat": 4,
 "nbformat_minor": 2
}
