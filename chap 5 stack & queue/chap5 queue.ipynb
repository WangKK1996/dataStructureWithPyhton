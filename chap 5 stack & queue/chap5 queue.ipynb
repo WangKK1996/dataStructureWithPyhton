{
 "cells": [
  {
   "cell_type": "markdown",
   "metadata": {},
   "source": [
    "## 队列\n",
    "### 队列的list实现"
   ]
  },
  {
   "cell_type": "code",
   "execution_count": 1,
   "metadata": {},
   "outputs": [],
   "source": [
    "# 先定义一个由于空而无法dequeue的异常：\n",
    "class QueueUnderflow(ValueError):\n",
    "    pass"
   ]
  },
  {
   "cell_type": "code",
   "execution_count": 2,
   "metadata": {},
   "outputs": [],
   "source": [
    "# 队列类的实现\n",
    "class SQueue():\n",
    "    def __init__(self, init_len = 8):\n",
    "        self._len = init_len # 存储区长度\n",
    "        self._elems = [0] * init_len # 元素存储\n",
    "        self._head = 0 # 表头元素下标\n",
    "        self._num = 0 # 元素个数\n",
    "    \n",
    "    def is_empty(self):\n",
    "        return self._num == 0\n",
    "\n",
    "    def peek(self):\n",
    "        if self._num == 0:\n",
    "            raise QueueUnderflow\n",
    "        return self._elems[self._head]\n",
    "    \n",
    "    def dequeue(self):\n",
    "        if self._num == 0:\n",
    "            raise QueueUnderflow\n",
    "        e = self._elems[self_.head]\n",
    "        self._head = (self._head + 1)%self._len\n",
    "        self._num -= 1\n",
    "        return e\n",
    "    \n",
    "    def enqueue(self, e):\n",
    "        if self._num == self._len:\n",
    "            self.__extend()\n",
    "        self._elems[(self._head + self._num) % self._len] = e\n",
    "        self._num += 1\n",
    "        \n",
    "    def __extend(self):\n",
    "        old_len = self._len\n",
    "        self._len *= 2\n",
    "        new_elems = [0]*self._len\n",
    "        for i in range(old_len):\n",
    "            new_elems[i] = self._elems[(self._head + i) % old_len]\n",
    "            self._elems, self._head = new_elems, 0"
   ]
  },
  {
   "cell_type": "markdown",
   "metadata": {},
   "source": [
    "解释一下这个__extend方法。当新入队的元素长度超过原始列表后，则该顺序表的长度翻倍。然后所有元素都被搬到新的列表中，head从0开始计算。"
   ]
  }
 ],
 "metadata": {
  "kernelspec": {
   "display_name": "Python 3",
   "language": "python",
   "name": "python3"
  },
  "language_info": {
   "codemirror_mode": {
    "name": "ipython",
    "version": 3
   },
   "file_extension": ".py",
   "mimetype": "text/x-python",
   "name": "python",
   "nbconvert_exporter": "python",
   "pygments_lexer": "ipython3",
   "version": "3.5.5"
  }
 },
 "nbformat": 4,
 "nbformat_minor": 2
}
