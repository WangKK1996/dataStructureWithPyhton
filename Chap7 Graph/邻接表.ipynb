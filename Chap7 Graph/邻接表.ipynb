{
 "cells": [
  {
   "cell_type": "markdown",
   "metadata": {},
   "source": [
    "### 邻接矩阵的实现"
   ]
  },
  {
   "cell_type": "code",
   "execution_count": 17,
   "metadata": {},
   "outputs": [],
   "source": [
    "class GraphError(Exception):\n",
    "    pass"
   ]
  },
  {
   "cell_type": "code",
   "execution_count": 35,
   "metadata": {},
   "outputs": [],
   "source": [
    "class Graph:\n",
    "    def __init__(self, mat, unconn = 0): # unconn代表的是不能连接的边的大小\n",
    "        vnum = len(mat) # 点的个数\n",
    "        for x in mat:\n",
    "            if len(x) != vnum:  # 检查是否为方阵\n",
    "                raise ValueError(\"不是方阵！\")\n",
    "            self._mat = [mat[i][:] for i in range(vnum)] # 拷贝\n",
    "            # 这里不用numpy的copy()可能也是这个原因。\n",
    "            self._unconn = unconn\n",
    "            self._vnum = vnum\n",
    "    \n",
    "    def vertex_num(self):\n",
    "        return self._vnum\n",
    "\n",
    "    def _invalid(self, v): # 判断点是不是合法\n",
    "        return 0 > v or v >= self._vnum\n",
    "    \n",
    "    def add_edge(self, vi, vj, val = 1):\n",
    "        if self._invalid(vi) or self._invalid(vj):\n",
    "            raise GraphError(str(vi)+\"或者\"+str(vj)+\"是非法点。\")\n",
    "            \n",
    "    # 构造出边函数，即统计每个顶点的出边    \n",
    "    def out_edges(self, vi):\n",
    "        if self._invalid(vi):\n",
    "            raise GraphError(str(vi) + \"不是合法点\")\n",
    "        return self._out_edges(self._mat[vi], self._unconn)\n",
    "    \n",
    "    @staticmethod\n",
    "    def _out_edges(row, unconn):\n",
    "        edges = []\n",
    "        for i in range(len(row)):\n",
    "            if row[i] != unconn:\n",
    "                edges.append((i, row[i]))\n",
    "        return edges\n",
    "    \n",
    "    # str函数一般可以被print调用，如果a是一个Graph实例的话，\n",
    "    # print(a)就会打印出__str__的内容\n",
    "    def __str__(self):\n",
    "        return \"[\\n\" + \",\\n\".join(map(str, self._mat)) + \"\\n]\" \\\n",
    "    + \"\\nUnconnected: \" + str(self._unconn)"
   ]
  },
  {
   "cell_type": "code",
   "execution_count": 44,
   "metadata": {},
   "outputs": [
    {
     "data": {
      "text/plain": [
       "[(1, 4), (2, 1)]"
      ]
     },
     "execution_count": 44,
     "metadata": {},
     "output_type": "execute_result"
    }
   ],
   "source": [
    "a = Graph([[0,4,1],[4,0,1],[1,1,0]])\n",
    "# print(a)\n",
    "a.out_edges(0)"
   ]
  },
  {
   "cell_type": "markdown",
   "metadata": {},
   "source": [
    "这个结果的意思是：0和1的链接权重为4，和2的链接权重为1"
   ]
  },
  {
   "cell_type": "markdown",
   "metadata": {},
   "source": [
    "### 邻接表实现\n",
    "邻接矩阵占用空间资源太多了，而且也不好加新点，就提出了邻接表的概念。邻接表被命名为GraphAL类，每个邻接边用一个（不一定等长的）list对象来表示。元素形式为$(v',w)$，$v'$是边的终点，$w$是边的权。\n",
    "\n",
    "作者说，虽然GraphAL类的接口和Graph类的接口是一致的，但是内部数据结构存储的方式都变了，所以，其实可以不用继承Graph类。但是因为有一些函数功能重复，所以还是继承Graph类，然后对一些函数重新定义。"
   ]
  },
  {
   "cell_type": "code",
   "execution_count": 47,
   "metadata": {},
   "outputs": [],
   "source": [
    "class GraphAL(Graph):\n",
    "    def __init__(self, mat = [], unconn = 0):\n",
    "        vnum = len(mat)\n",
    "        for x in mat:\n",
    "            if len(x) != vnum: # 检查是否为方阵\n",
    "                raise ValueError(\"不是方阵！\")\n",
    "            # 把_mat属性转变为出边构成的列表\n",
    "            self._mat = [Graph._out_edges(mat[i], unconn) \n",
    "                        for i in range(vnum)]\n",
    "            \n",
    "            self._vnum = vnum\n",
    "            self._unconn = unconn\n",
    "    \n",
    "    # 加新点\n",
    "    def add_vertex(self): # 增加新点时安排一个新编号\n",
    "        self._mat.append([])\n",
    "        self._vnum += 1\n",
    "        return self._vnum - 1\n",
    "    \n",
    "    def add_edge(self, vi, vj, val = 1):\n",
    "        if self._vnum == 0:\n",
    "            raise GraphError(\"不能给空图加新边~\")\n",
    "        if self._invalid(vi) or self._invalid(vj):\n",
    "            raise GraphError(str(vi) + \"或者\" + \"str(vj)\"+ \"是非法点！\")\n",
    "            \n",
    "        row = self._mat(vi)\n",
    "        i = 0\n",
    "        while i < len(row):\n",
    "            if row[i][0] == vj: # 修改mat[vi][vj]的值(把矩阵形式改成邻接表)\n",
    "                self._mat[vi][i] = (vj, val)\n",
    "                return\n",
    "            if row[i][0] > vj: # 这里的i是一个指针，指示的是vi已有的出边。\n",
    "                break # 所有出边按顺序排列，所以一旦达到大于vj的指针，说明原来的边中并没有vj这条边，跳出循环\n",
    "            i += 1\n",
    "        # 在i指针位置上插入新的边\n",
    "        self._mat[vi].insert(i, (vj, val))\n",
    "    \n",
    "    def get_edge(self, vi, vj):\n",
    "        if self._invalid(vi) or self._invalid(vj):\n",
    "            raise GraphError(str(vi) + \"或者\" + str(vj) + \"是非法节点。\")\n",
    "        \n",
    "        for i, val in self._mat(vi):\n",
    "            if i == vj:\n",
    "                return val\n",
    "        return self._unconn\n",
    "    \n",
    "    def out_edges(self, vi):\n",
    "        if self._invalid(vi):\n",
    "            raise GraphError(str(vi) + \"不是合法点\")\n",
    "        return self._mat[vi]"
   ]
  },
  {
   "cell_type": "code",
   "execution_count": 53,
   "metadata": {},
   "outputs": [
    {
     "data": {
      "text/plain": [
       "[(1, 4), (2, 1)]"
      ]
     },
     "execution_count": 53,
     "metadata": {},
     "output_type": "execute_result"
    }
   ],
   "source": [
    "a = GraphAL([[0,4,1],[4,0,1],[1,1,0]])\n",
    "a.out_edges(0)"
   ]
  },
  {
   "cell_type": "code",
   "execution_count": null,
   "metadata": {},
   "outputs": [],
   "source": []
  }
 ],
 "metadata": {
  "kernelspec": {
   "display_name": "Python 3",
   "language": "python",
   "name": "python3"
  },
  "language_info": {
   "codemirror_mode": {
    "name": "ipython",
    "version": 3
   },
   "file_extension": ".py",
   "mimetype": "text/x-python",
   "name": "python",
   "nbconvert_exporter": "python",
   "pygments_lexer": "ipython3",
   "version": "3.5.5"
  }
 },
 "nbformat": 4,
 "nbformat_minor": 2
}
