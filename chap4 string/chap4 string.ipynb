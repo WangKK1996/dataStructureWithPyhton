{
 "cells": [
  {
   "cell_type": "markdown",
   "metadata": {},
   "source": [
    "# 朴素串匹配"
   ]
  },
  {
   "cell_type": "code",
   "execution_count": 2,
   "metadata": {},
   "outputs": [
    {
     "data": {
      "text/plain": [
       "1"
      ]
     },
     "execution_count": 2,
     "metadata": {},
     "output_type": "execute_result"
    }
   ],
   "source": [
    "def naive_matching(t, p): #查找t中是否有子串p\n",
    "    m, n = len(p), len(t)\n",
    "    i, j = 0, 0\n",
    "    while i < m and j < n: # 当i == m时找到了匹配\n",
    "        if p[i] == t[j]: # 该字符匹配，进行下一位的匹配\n",
    "            i += 1\n",
    "            j += 1\n",
    "        else:\n",
    "            i, j = 0, j - i + 1 # 该字符不匹配，故而从该字符的下一位开始继续匹配\n",
    "    if i == m: # 找到了匹配的子串，返回其起始下标\n",
    "           return j - i\n",
    "    return -1 # 无匹配，就返回特殊值\n",
    "\n",
    "naive_matching('wkwkwkwk', 'kw')"
   ]
  },
  {
   "cell_type": "markdown",
   "metadata": {},
   "source": [
    "朴素串匹配的算法复杂度为O（m \\* n）"
   ]
  },
  {
   "cell_type": "markdown",
   "metadata": {},
   "source": [
    "# KPM算法"
   ]
  },
  {
   "cell_type": "code",
   "execution_count": 3,
   "metadata": {},
   "outputs": [],
   "source": [
    "# 核心循环步骤\n",
    "def matching_KMP(t, p, pnext):\n",
    "    '''KMP串匹配，主函数 '''\n",
    "    j ,i = 0, 0\n",
    "    n, m = len(t), len(p)\n",
    "    while j < n and i < m:\n",
    "        if i == -1 or p[i] == t[j]:\n",
    "            j, i = j + 1, i + 1\n",
    "        else:\n",
    "            i = pnext[i]\n",
    "    if i == m:\n",
    "        return j-i\n",
    "    return -1"
   ]
  },
  {
   "cell_type": "markdown",
   "metadata": {},
   "source": [
    "该算法的复杂性为循环的执行次数，i和j是一直在递增的，而且j+1的总次数不会大于n。而if的条件保证变量i的值不小于-1。所以i递增的次数也不会大于O（n）。总结来看，算法复杂度为O（n）"
   ]
  },
  {
   "cell_type": "markdown",
   "metadata": {},
   "source": [
    "## pnext表的构造算法"
   ]
  },
  {
   "cell_type": "code",
   "execution_count": 10,
   "metadata": {},
   "outputs": [],
   "source": [
    "def gen_pnext(p):\n",
    "    '''\n",
    "    生成针对p中各位置i的下一位置检查表，用于KMP算法\n",
    "    '''\n",
    "    i, k, m = 0, -1, len(p)\n",
    "    pnext = [-1] * m # 生成一个包含m个-1的列表。\n",
    "    while i < m-1: # 生成下一个pnext元素\n",
    "        if k == -1 or p[i] == p[k]:\n",
    "            i, k = i+1, k+1\n",
    "            pnext[i] = k # 设置pnext元素\n",
    "        else:\n",
    "            k = pnext[k] # 遇到更短相同前缀\n",
    "    return pnext"
   ]
  },
  {
   "cell_type": "code",
   "execution_count": 7,
   "metadata": {},
   "outputs": [
    {
     "data": {
      "text/plain": [
       "[-1, 0, 0, 0, 0, 1, 2, 0, 1, 1, 2, 3, 4, 5]"
      ]
     },
     "execution_count": 7,
     "metadata": {},
     "output_type": "execute_result"
    }
   ],
   "source": [
    "gen_pnext('abbcabcaabbcaa')"
   ]
  },
  {
   "cell_type": "markdown",
   "metadata": {},
   "source": [
    "## pnext表构造算法的改进"
   ]
  },
  {
   "cell_type": "markdown",
   "metadata": {},
   "source": [
    "在生成算法中，设`pnext[i]`还能进一步优化。由于匹配失败时有$p_i \\neq t_j$ ,如果`pnext[i]=k`,若发现$p_i = p_k$，就一定有$p_k \\neq t_j$故而应该把模式串移到`pnext[k]`而不是仅仅移到`pnext[i]`，然后用$p_{next[k]}$和$t_j$比较，这样可以把模式串右移得更远从而提高效率。\n",
    "\n",
    "修改后的函数定义如下："
   ]
  },
  {
   "cell_type": "code",
   "execution_count": 8,
   "metadata": {},
   "outputs": [],
   "source": [
    "def gen_pnext(p):\n",
    "    \"\"\"\n",
    "    生成针对p中个位置i的下一个检查位置表，用于KMP算法\n",
    "    \n",
    "    这是一个有稍许修改的优化版本 。\n",
    "    \"\"\"\n",
    "    i, k, m = 0, -1, len(p)\n",
    "    pnext = [-1] * m\n",
    "    while i < m-1: # 生成下一个pnext元素\n",
    "        if k == -1 or p[i] == p[k]:\n",
    "            i, k = i + 1, k + 1\n",
    "            if p[i] == p[k]:\n",
    "                pnext[i] = pnext[k]\n",
    "            else:\n",
    "                pnext[i] = k\n",
    "        else:\n",
    "            k = pnext[k]\n",
    "    return pnext\n",
    "    "
   ]
  },
  {
   "cell_type": "markdown",
   "metadata": {},
   "source": [
    "# python的正则表达式"
   ]
  },
  {
   "cell_type": "code",
   "execution_count": 13,
   "metadata": {},
   "outputs": [
    {
     "data": {
      "text/plain": [
       "['a', 'b', '', 'c', '', '', 'd']"
      ]
     },
     "execution_count": 13,
     "metadata": {},
     "output_type": "execute_result"
    }
   ],
   "source": [
    "import re\n",
    "re.split(' ', \"aaa bbb abc are not the same\")\n",
    "re.split(\" \", \"a b  c   d\")"
   ]
  },
  {
   "cell_type": "code",
   "execution_count": null,
   "metadata": {},
   "outputs": [],
   "source": []
  }
 ],
 "metadata": {
  "kernelspec": {
   "display_name": "Python 3",
   "language": "python",
   "name": "python3"
  },
  "language_info": {
   "codemirror_mode": {
    "name": "ipython",
    "version": 3
   },
   "file_extension": ".py",
   "mimetype": "text/x-python",
   "name": "python",
   "nbconvert_exporter": "python",
   "pygments_lexer": "ipython3",
   "version": "3.5.5"
  }
 },
 "nbformat": 4,
 "nbformat_minor": 2
}
