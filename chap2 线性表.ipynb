{
 "cells": [
  {
   "cell_type": "markdown",
   "metadata": {},
   "source": [
    "# 单链表的实现"
   ]
  },
  {
   "cell_type": "markdown",
   "metadata": {},
   "source": [
    "首先定义LNode类"
   ]
  },
  {
   "cell_type": "code",
   "execution_count": 2,
   "metadata": {},
   "outputs": [],
   "source": [
    "class LNode:\n",
    "    def __init__(self, elem, next_ = None):\n",
    "        self.elem = elem\n",
    "        self.next = next_"
   ]
  },
  {
   "cell_type": "markdown",
   "metadata": {},
   "source": [
    "接下来实现单链表"
   ]
  },
  {
   "cell_type": "code",
   "execution_count": 6,
   "metadata": {},
   "outputs": [
    {
     "name": "stdout",
     "output_type": "stream",
     "text": [
      "1\n",
      "2\n",
      "3\n",
      "4\n",
      "5\n",
      "6\n",
      "7\n",
      "8\n",
      "9\n",
      "10\n"
     ]
    }
   ],
   "source": [
    "# 定义一个包含了1到10元素的单链表\n",
    "list1 = LNode(1)\n",
    "p = list1\n",
    "for i in range(2,11):\n",
    "    p.next = LNode(i)\n",
    "    p = p.next\n",
    "\n",
    "# 打印列表中元素\n",
    "p = list1\n",
    "while p is not None:\n",
    "    print(p.elem)\n",
    "    p = p.next"
   ]
  },
  {
   "cell_type": "markdown",
   "metadata": {},
   "source": [
    "合理处理异常值"
   ]
  },
  {
   "cell_type": "code",
   "execution_count": 7,
   "metadata": {},
   "outputs": [],
   "source": [
    "class LinkedListUnderFlow(ValueError):\n",
    "    pass"
   ]
  },
  {
   "cell_type": "markdown",
   "metadata": {},
   "source": [
    "## LList类的定义，初始化函数和简单操作"
   ]
  },
  {
   "cell_type": "code",
   "execution_count": 15,
   "metadata": {},
   "outputs": [],
   "source": [
    "class LList:\n",
    "    def __init__(self):\n",
    "        self._head = None #定义表头\n",
    "    \n",
    "    def is_empty(self):\n",
    "        return self._head is None\n",
    "    \n",
    "# 前端操作\n",
    "    def prepend(self, elem):\n",
    "        self._head = LNode(elem, self._head) #实现在表头插入元素\n",
    "    \n",
    "    #删除表头元素，并返回该元素值。\n",
    "    def pop(self):\n",
    "        if self._head == None:\n",
    "            raise LinkedListUnderFlow(\"in pop\")\n",
    "        e = self._head.elem\n",
    "        self._head = self._head.next\n",
    "        return e\n",
    "    \n",
    "# 后端操作\n",
    "    # 后端插入，需要分情况处理\n",
    "    def append(self, elem):\n",
    "        if self._head is None:\n",
    "            self._head = LNode(elem)\n",
    "            return\n",
    "        p = self._head\n",
    "        while p.next is not None: #也可以简单写成p.next，不过这里为了方便理解还是这样写。\n",
    "            p = p.next\n",
    "        p.next = LNode(elem)\n",
    "    \n",
    "    # 删除最后端的元素并返回被删除的元素，也需要分情况处理\n",
    "    def pop_last(self):\n",
    "        #空列表，引发异常\n",
    "        if self._head == None:\n",
    "            raise LinkedListUnderFlow\n",
    "        \n",
    "        #其他情况:\n",
    "        p = self._head\n",
    "        \n",
    "        #表中只有一个元素\n",
    "        if p.next == None:\n",
    "            e = self._head.elem\n",
    "            self._head == None\n",
    "            return e\n",
    "        \n",
    "        # 表中不止一个元素，找到p.next为最后一个结点。\n",
    "        while p.next.next is not None:\n",
    "            p = p.next\n",
    "        e = p.next.elem\n",
    "        p.next = None\n",
    "        return e\n",
    "    \n",
    "# 其他操作：增删改查\n",
    "#假设pred为我们想要进行判断的操作\n",
    "    def find(self, pred):\n",
    "        p = self._head\n",
    "        while p is not None:\n",
    "            if pred(p.elem):\n",
    "                return p.elem\n",
    "            p = p.next\n",
    "\n",
    "# 查看表的当前状态    \n",
    "    def printAll(self):\n",
    "        p = self._head\n",
    "        while p is not None:\n",
    "            print(p.elem, end = '')\n",
    "            if p.next is not None:\n",
    "                print(',',end = '')\n",
    "            p = p.next\n",
    "        print('')           "
   ]
  },
  {
   "cell_type": "markdown",
   "metadata": {},
   "source": [
    "下面给出一段简单的使用链表的代码"
   ]
  },
  {
   "cell_type": "code",
   "execution_count": 30,
   "metadata": {},
   "outputs": [
    {
     "name": "stdout",
     "output_type": "stream",
     "text": [
      "9,8,7,6,5,4,3,2,1,0,11,12,13,14,15,16,17,18,19\n"
     ]
    }
   ],
   "source": [
    "mlist1 = LList()\n",
    "for i in range(10):\n",
    "    mlist1.prepend(i)\n",
    "for i in range (11,20):\n",
    "    mlist1.append(i)\n",
    "mlist1.printAll()"
   ]
  },
  {
   "cell_type": "markdown",
   "metadata": {},
   "source": [
    "## 表的遍历"
   ]
  },
  {
   "cell_type": "markdown",
   "metadata": {},
   "source": [
    "再来为LList对象增加一些新的方法："
   ]
  },
  {
   "cell_type": "code",
   "execution_count": 33,
   "metadata": {},
   "outputs": [],
   "source": [
    "class LList:\n",
    "    def __init__(self):\n",
    "        self._head = None #定义表头\n",
    "    \n",
    "    def is_empty(self):\n",
    "        return self._head is None\n",
    "    \n",
    "# 前端操作\n",
    "    def prepend(self, elem):\n",
    "        self._head = LNode(elem, self._head) #实现在表头插入元素\n",
    "    \n",
    "    #删除表头元素，并返回该元素值。\n",
    "    def pop(self):\n",
    "        if self._head == None:\n",
    "            raise LinkedListUnderFlow(\"in pop\")\n",
    "        e = self._head.elem\n",
    "        self._head = self._head.next\n",
    "        return e\n",
    "    \n",
    "# 后端操作\n",
    "    # 后端插入，需要分情况处理\n",
    "    def append(self, elem):\n",
    "        if self._head is None:\n",
    "            self._head = LNode(elem)\n",
    "            return\n",
    "        p = self._head\n",
    "        while p.next is not None: #也可以简单写成p.next，不过这里为了方便理解还是这样写。\n",
    "            p = p.next\n",
    "        p.next = LNode(elem)\n",
    "    \n",
    "    # 删除最后端的元素并返回被删除的元素，也需要分情况处理\n",
    "    def pop_last(self):\n",
    "        #空列表，引发异常\n",
    "        if self._head == None:\n",
    "            raise LinkedListUnderFlow\n",
    "        \n",
    "        #其他情况:\n",
    "        p = self._head\n",
    "        \n",
    "        #表中只有一个元素\n",
    "        if p.next == None:\n",
    "            e = self._head.elem\n",
    "            self._head == None\n",
    "            return e\n",
    "        \n",
    "        # 表中不止一个元素，找到p.next为最后一个结点。\n",
    "        while p.next.next is not None:\n",
    "            p = p.next\n",
    "        e = p.next.elem\n",
    "        p.next = None\n",
    "        return e\n",
    "    \n",
    "# 其他操作：增删改查\n",
    "#假设pred为我们想要进行判断的操作\n",
    "    def find(self, pred):\n",
    "        p = self._head\n",
    "        while p is not None:\n",
    "            if pred(p.elem):\n",
    "                return p.elem\n",
    "            p = p.next\n",
    "\n",
    "# 查看表的当前状态    \n",
    "    def printAll(self):\n",
    "        p = self._head\n",
    "        while p is not None:\n",
    "            print(p.elem, end = '')\n",
    "            if p.next is not None:\n",
    "                print(',',end = '')\n",
    "            p = p.next\n",
    "        print('')\n",
    "\n",
    "# ===================== 新增方法:表的遍历 =======================\n",
    "    def for_each(self, proc):\n",
    "        p = self._head\n",
    "        while p is not None:\n",
    "            proc(p.elem)\n",
    "            p = p.next\n",
    "            \n",
    "    # 另一种方式：生成器\n",
    "    def elements(self):\n",
    "        p = self._head\n",
    "        while p is not None:\n",
    "            yield p.elem\n",
    "            p = p.next\n",
    "# ==================== 新增方法：生成器函数 ========================\n",
    "# 生成器函数相较于find而言，不仅可以找到第一个元素，还能找到剩下满足条件的元素\n",
    "    def filter(self, proc):\n",
    "        p = self._head\n",
    "        while p is not None:\n",
    "            if proc(p.elem):\n",
    "                yield p.elem\n",
    "            p = p.next\n",
    "            "
   ]
  },
  {
   "cell_type": "code",
   "execution_count": 34,
   "metadata": {},
   "outputs": [
    {
     "name": "stdout",
     "output_type": "stream",
     "text": [
      "9,8,7,6,5,4,3,2,1,0,11,12,13,14,15,16,17,18,19\n"
     ]
    }
   ],
   "source": [
    "mlist1 = LList()\n",
    "for i in range(10):\n",
    "    mlist1.prepend(i)\n",
    "for i in range (11,20):\n",
    "    mlist1.append(i)\n",
    "mlist1.printAll()"
   ]
  },
  {
   "cell_type": "code",
   "execution_count": 35,
   "metadata": {
    "collapsed": true
   },
   "outputs": [
    {
     "name": "stdout",
     "output_type": "stream",
     "text": [
      "9\n",
      "8\n",
      "7\n",
      "6\n",
      "5\n",
      "4\n",
      "3\n",
      "2\n",
      "1\n",
      "0\n",
      "11\n",
      "12\n",
      "13\n",
      "14\n",
      "15\n",
      "16\n",
      "17\n",
      "18\n",
      "19\n"
     ]
    }
   ],
   "source": [
    "#实现方式一：通过函数\n",
    "mlist1.for_each(print)"
   ]
  },
  {
   "cell_type": "code",
   "execution_count": 36,
   "metadata": {
    "collapsed": true
   },
   "outputs": [
    {
     "name": "stdout",
     "output_type": "stream",
     "text": [
      "9\n",
      "8\n",
      "7\n",
      "6\n",
      "5\n",
      "4\n",
      "3\n",
      "2\n",
      "1\n",
      "0\n",
      "11\n",
      "12\n",
      "13\n",
      "14\n",
      "15\n",
      "16\n",
      "17\n",
      "18\n",
      "19\n"
     ]
    }
   ],
   "source": [
    "# 实现方式二：通过生成器\n",
    "for x in mlist1.elements():\n",
    "    print(x)"
   ]
  },
  {
   "cell_type": "markdown",
   "metadata": {},
   "source": [
    "## 链表的变形操作\n",
    "单链表（每个结点只有一个指针域）还存在其他不同的设计。\n",
    "\n",
    "### 加入尾端信息\n",
    "之前定义的单链表存在一个缺点；从尾端插入元素的效率较低。故而考虑在表的信息中直接加入对尾端的连线，以下做出改进："
   ]
  },
  {
   "cell_type": "code",
   "execution_count": 145,
   "metadata": {},
   "outputs": [],
   "source": [
    "# 首先，定义的新类可以继承原来单链表的性质：\n",
    "class LList1(LList):\n",
    "    def __init__(self):\n",
    "        LList.__init__(self)\n",
    "        self._rear = None  # 定义尾端元素\n",
    "        \n",
    "# 若只有一个元素，那么在尾端插入相当于在前端插入，故而修改prepend方法\n",
    "#     def prepend(self, elem):\n",
    "#         self._head = LNode(elem, self._head)\n",
    "#         if self._rear == None: #原来是空表\n",
    "#             self._rear = self._head\n",
    "\n",
    "# ==== 以上方法虽然简单，但是和LList的非空检查操作不一致（检查的是head），改用以下方法更统一 ======\n",
    "    def prepend(self, elem):\n",
    "        if self._head == None:\n",
    "            self._head = LNode(elem, self._head)\n",
    "            self._rear = self._head\n",
    "        else:\n",
    "            self._head = LNode(elem, self._head)\n",
    "            \n",
    "# 修改尾部插入元素的定义：\n",
    "    def append(self, elem):\n",
    "        if self._head == None:\n",
    "            self._head = LNode(elem, self._head)\n",
    "            self._rear = self._head\n",
    "        else:\n",
    "            self._rear.next =  LNode(elem)\n",
    "            self._rear = self._rear.next\n",
    "\n",
    "# 弹出最末元素pop_last\n",
    "    def pop_last(self):\n",
    "        if self._head == None: # 是空表\n",
    "            raise LinkedListUnderFlow(\"in pop+last\")\n",
    "        if self._head.next == None: #表中只有一个元素\n",
    "            e = self._head.elem\n",
    "            self._head = None\n",
    "            self._rear = self._head\n",
    "            return e\n",
    "        p = self._head\n",
    "        while p.next.next is not None:\n",
    "            p = p.next # 查找最后一个元素,使p.next为最后一个元素\n",
    "        e = p.next.elem\n",
    "        p.next = None\n",
    "        self._rear = p\n",
    "        return e"
   ]
  },
  {
   "cell_type": "markdown",
   "metadata": {},
   "source": [
    "以上的这个新类在尾端插入元素的效率上提高了很多，下面是一些具体使用案例："
   ]
  },
  {
   "cell_type": "code",
   "execution_count": 42,
   "metadata": {},
   "outputs": [
    {
     "name": "stdout",
     "output_type": "stream",
     "text": [
      "2\n",
      "16\n",
      "10\n",
      "14\n",
      "2\n",
      "8\n",
      "18\n",
      "14\n"
     ]
    }
   ],
   "source": [
    "from random import randint\n",
    "\n",
    "mlist1 = LList1()\n",
    "mlist1.append(99)\n",
    "for i in range(11,20):\n",
    "    mlist1.append(randint(1,20))\n",
    "    \n",
    "for x in mlist1.filter(lambda y: y % 2 == 0): # 判断偶数\n",
    "    print(x)"
   ]
  },
  {
   "cell_type": "markdown",
   "metadata": {},
   "source": [
    "### 类设计的一致性\n",
    "从上面更新的几个函数来看，判断非空都是使用的`if self._head == None`，保持了前后的一致性。"
   ]
  },
  {
   "cell_type": "markdown",
   "metadata": {},
   "source": [
    "### 循环单链表\n",
    "其最后一个结点的next域不指向None，而是指向表的第一个结点。同时，表的引用指针指向表尾，这样可以实现O（1）时间的表头插入和表尾插入（通过`self._rear`和`self._rear.next`实现）"
   ]
  },
  {
   "cell_type": "code",
   "execution_count": 151,
   "metadata": {},
   "outputs": [],
   "source": [
    "class LCList: # 循环单链表\n",
    "    def __init__(self):\n",
    "        self._rear = None\n",
    "    \n",
    "    def is_empty(self):\n",
    "        return self._rear is None\n",
    "    \n",
    "    def prepend(self, elem): # 前端插入\n",
    "        p = LNode(elem)\n",
    "        if self._rear is None: # 判断空表\n",
    "            self._rear = p # 建立只有一个结点的环\n",
    "            self._rear.next = self._rear\n",
    "        else:\n",
    "            p.next = self._rear.next\n",
    "            self._rear.next = p\n",
    "    \n",
    "#     def append(self, elem): #尾端插入\n",
    "#         p = LNode(elem)\n",
    "#         if self._rear is None: # 判断空表\n",
    "#             self._rear = p\n",
    "#             self._rear.next = self._rear\n",
    "#         else:\n",
    "#             p.next = self._rear.next\n",
    "#             self._rear = p\n",
    "\n",
    "# 以下给出更方便的尾端插入的写法：\n",
    "    def append(self, elem): # 尾端插入\n",
    "        self.prepend(elem)\n",
    "        self._rear = self._rear.next\n",
    "    \n",
    "    def pop(self): #前端弹出\n",
    "        if self._rear is None:\n",
    "            raise LinkedListUnderFlow(\"in pop\")\n",
    "        if self._rear.next == self._rear: # 只有一个元素\n",
    "            e = self._rear.elem\n",
    "            self._rear = None\n",
    "            return e\n",
    "        else:\n",
    "            e = self._rear.next.elem\n",
    "            self._rear.next = self._rear.next.next\n",
    "            return e\n",
    "    def printAll(self): #输出表元素\n",
    "        if self.is_empty():\n",
    "            return\n",
    "        p = self._rear.next\n",
    "        while True:\n",
    "            print(p.elem)\n",
    "            if p is self._rear:\n",
    "                break\n",
    "            p = p.next         "
   ]
  },
  {
   "cell_type": "code",
   "execution_count": 54,
   "metadata": {
    "collapsed": true
   },
   "outputs": [
    {
     "name": "stdout",
     "output_type": "stream",
     "text": [
      "9\n",
      "8\n",
      "7\n",
      "6\n",
      "5\n",
      "4\n",
      "3\n",
      "2\n",
      "1\n",
      "0\n",
      "11\n",
      "12\n",
      "13\n",
      "14\n",
      "15\n",
      "16\n",
      "17\n",
      "18\n",
      "19\n"
     ]
    }
   ],
   "source": [
    "mlist1 = LCList()\n",
    "for i in range(10):\n",
    "    mlist1.prepend(i)\n",
    "for i in range (11,20):\n",
    "    mlist1.append(i)\n",
    "mlist1.printAll()"
   ]
  },
  {
   "cell_type": "markdown",
   "metadata": {},
   "source": [
    "# 双链表的实现\n",
    "单链表的只能支持O（1）时间的首端元素加入/删除和尾端加入，为高效完成两种方法，提出**双链表**的概念，加入另一方向的链接。"
   ]
  },
  {
   "cell_type": "code",
   "execution_count": 72,
   "metadata": {},
   "outputs": [],
   "source": [
    "# 从单链表结点类继承一个双链表结点类：\n",
    "class DLNode(LNode):\n",
    "    def __init__(self, elem, prev = None, next_ = None):\n",
    "        LNode.__init__(self, elem, next_)\n",
    "        self.prev = prev   "
   ]
  },
  {
   "cell_type": "markdown",
   "metadata": {},
   "source": [
    "## 普通双链表的实现"
   ]
  },
  {
   "cell_type": "code",
   "execution_count": 131,
   "metadata": {},
   "outputs": [],
   "source": [
    "# 从单链表类LList继承出双链表类：\n",
    "class DLList(LList1): # 双链表类\n",
    "    def __init__(self):\n",
    "        LList1.__init__(self)\n",
    "    \n",
    "    def prepend(self, elem): #前端插入\n",
    "        p = DLNode(elem, None, self._head)\n",
    "        if self._head is None: # 空表\n",
    "            self._rear = p\n",
    "        else:\n",
    "            p.next = self._head\n",
    "        self._head = p\n",
    "        \n",
    "    def append(self,elem): # 后端插入\n",
    "        p = DLNode(elem, self._rear, None)\n",
    "        if self._head is None: #空表\n",
    "            self._head = p\n",
    "        else:\n",
    "            self._rear.next = p # 也可以写p.prec.next = p，但前面这种写法更直观\n",
    "        self._rear = p\n",
    "    \n",
    "    def pop(self): # 前端删除\n",
    "        if self._head is None: # 空表\n",
    "            raise LinkedListUnderFlow(\"in pop\")\n",
    "        e = self._head.elem\n",
    "        self._head = self._head.next\n",
    "        if self._head is None: #为空时需要更新_rear信息，不为空时更新prev信息\n",
    "            self._rear = None\n",
    "        else:\n",
    "            self._head.prev = None\n",
    "        return e\n",
    "    \n",
    "    def pop_last(self):# 后端删除\n",
    "        if self._head is None: # 空表\n",
    "            raise LinkedListUnderFlow(\"in pop_last\")\n",
    "        e = self._rear.elem\n",
    "        self._rear = self._rear.prev\n",
    "        if self._rear is None: #为空时,需要重置head信息，保证is_empty能工作\n",
    "            self._head = None\n",
    "        else:\n",
    "            self._rear.next = None\n",
    "        return e   "
   ]
  },
  {
   "cell_type": "code",
   "execution_count": 132,
   "metadata": {},
   "outputs": [],
   "source": [
    "mlist2 = DLList()\n",
    "for i in range(2):\n",
    "    mlist2.prepend(i)\n",
    "# for i in range (11,20):\n",
    "#     mlist2.append(i)"
   ]
  },
  {
   "cell_type": "markdown",
   "metadata": {},
   "source": [
    "## 循环双链表"
   ]
  },
  {
   "cell_type": "markdown",
   "metadata": {},
   "source": [
    "# 两个链表操作\n",
    "## 链表翻转：reverse\n"
   ]
  },
  {
   "cell_type": "code",
   "execution_count": 147,
   "metadata": {},
   "outputs": [],
   "source": [
    "class LList(LList):\n",
    "    def __init__(self):\n",
    "        LList.__init__\n",
    "    \n",
    "# ========= 单链表的排序实现 ============\n",
    "    def sort1(self):\n",
    "        if self._head is None:\n",
    "            return\n",
    "        crt = self._head.next\n",
    "        while crt is not None:\n",
    "            x = crt.elem\n",
    "            p = self._head\n",
    "            while p is not crt and p.elem < x: # 跳过小元素\n",
    "                p = p.next\n",
    "            if p is not crt: # 替换大元素的位置\n",
    "                p.elem, x = x, p.elem\n",
    "                p = p.next\n",
    "            crt = crt.next # 回填最后一个元素\n",
    "\n",
    "# ======= 换种思路：寻找元素应当插入的链接 ========\n",
    "    def sort(self):\n",
    "        p = self._head\n",
    "        if p is None or p.next is None: #处理空表以及单元素表\n",
    "            return\n",
    "        \n",
    "        rem = p.next # 查找的就是rem元素结点的插入位置\n",
    "        p.next = None\n",
    "        while rem is not None:\n",
    "            p = self._head\n",
    "            q = None\n",
    "            while p is not None and p.elem < rem.elem: # 跳过小元素\n",
    "                q = p\n",
    "                p = p.next\n",
    "            if q is None: # 处理表头插入\n",
    "                self._head = rem\n",
    "            else:\n",
    "                q.next = rem # 在q后插入rem\n",
    "            q = rem # 进行下一步循环\n",
    "            rem = rem.next \n",
    "            q.next = q"
   ]
  },
  {
   "cell_type": "markdown",
   "metadata": {},
   "source": [
    "# 表的应用：Josephus问题"
   ]
  },
  {
   "cell_type": "code",
   "execution_count": 148,
   "metadata": {},
   "outputs": [
    {
     "name": "stdout",
     "output_type": "stream",
     "text": [
      "8, 5, 3, 2, 4, 7, 1, 6, 9, 10 \n"
     ]
    }
   ],
   "source": [
    "# 用list函数实现\n",
    "def josephus_A(n, k, m):\n",
    "    people = list(range(1, n+1))\n",
    "    \n",
    "    i = k-1\n",
    "    for num in range(n):\n",
    "        count = 0\n",
    "        while count < m:\n",
    "            if people[i] > 0:\n",
    "                count += 1\n",
    "            if count == m: # \n",
    "                print(people[i], end = '')\n",
    "                people[i] = 0\n",
    "            i = (i+1) % n #  更新i,取余表示从下一个人开始，如果超过计数范围则从头开始。\n",
    "        if num < n-1:\n",
    "            print(\", \", end = '') # 输出每个出列的元素后加上逗号\n",
    "        else:\n",
    "            print(\" \") # 输出最后一个元素后换行\n",
    "    return\n",
    "\n",
    "josephus_A(10,2,7)\n",
    "        \n",
    "    "
   ]
  },
  {
   "cell_type": "code",
   "execution_count": 152,
   "metadata": {},
   "outputs": [
    {
     "name": "stdout",
     "output_type": "stream",
     "text": [
      "8, 5, 3, 2, 4, 7, 1, 6, 9, 10\n"
     ]
    }
   ],
   "source": [
    "# 基于顺序表的解，时间复杂度为O（n^2）\n",
    "def joseohus_L(n, k ,m):\n",
    "    people = list(range(1, n+1))\n",
    "    \n",
    "    num, i = n, k-1\n",
    "    for num in range(n, 0, -1):\n",
    "        i = (i + m -1) % num # 每次弹出一个表。\n",
    "        print(people.pop(i), end = (\", \" if num > 1 else \"\\n\"))\n",
    "    return\n",
    "\n",
    "joseohus_L(10,2,7)"
   ]
  },
  {
   "cell_type": "code",
   "execution_count": 154,
   "metadata": {},
   "outputs": [
    {
     "name": "stdout",
     "output_type": "stream",
     "text": [
      "8, 5, 3, 2, 4, 7, 1, 6, 9, 10\n"
     ]
    },
    {
     "data": {
      "text/plain": [
       "<__main__.Josephus at 0x2080fa76a20>"
      ]
     },
     "execution_count": 154,
     "metadata": {},
     "output_type": "execute_result"
    }
   ],
   "source": [
    "# 基于循环单链表的解\n",
    "class Josephus(LCList):\n",
    "    def turn(self, m):\n",
    "         for i in range(m):\n",
    "                 self._rear = self._rear.next\n",
    "    \n",
    "    def __init__(self, n, k, m):\n",
    "        LCList.__init__(self)\n",
    "        for i in range(n):\n",
    "            self.append(i+1) #创建初始列表\n",
    "        self.turn(k-1) # 轮换下一人数\n",
    "        while not self.is_empty():\n",
    "            self.turn(m-1)\n",
    "            print(self.pop(),\n",
    "                 end = (\"\\n\" if self.is_empty() else \", \"))\n",
    "\n",
    "# 虽然创建的是Josephus类，但是创建对象本身并不重要，而是在创建类的过程中就已经实现了一次计算。\n",
    "Josephus(10, 2, 7)               "
   ]
  },
  {
   "cell_type": "markdown",
   "metadata": {},
   "source": [
    "第三种方法的时间复杂度：\n",
    "* 创建表的时间复杂度为O（n）\n",
    "* 循环算法的时间复杂度为O(m \\* n)，因为共做了m \\* n步的一步旋转，每次是O（1）"
   ]
  }
 ],
 "metadata": {
  "kernelspec": {
   "display_name": "Python 3",
   "language": "python",
   "name": "python3"
  },
  "language_info": {
   "codemirror_mode": {
    "name": "ipython",
    "version": 3
   },
   "file_extension": ".py",
   "mimetype": "text/x-python",
   "name": "python",
   "nbconvert_exporter": "python",
   "pygments_lexer": "ipython3",
   "version": "3.5.5"
  }
 },
 "nbformat": 4,
 "nbformat_minor": 2
}
